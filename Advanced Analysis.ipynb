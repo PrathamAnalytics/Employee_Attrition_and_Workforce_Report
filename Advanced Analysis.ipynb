{
 "cells": [
  {
   "cell_type": "markdown",
   "id": "ac6859d0-ac10-4a06-823f-961511fc2cf0",
   "metadata": {},
   "source": [
    "# Import Libraries"
   ]
  },
  {
   "cell_type": "code",
   "execution_count": 6,
   "id": "ccd34722-6b7f-472e-88bf-39fe8f52fb5c",
   "metadata": {},
   "outputs": [],
   "source": [
    "import pandas as pd\n",
    "import numpy as np\n",
    "import seaborn as sns\n",
    "import matplotlib.pyplot as plt"
   ]
  },
  {
   "cell_type": "markdown",
   "id": "ad246cd4-f638-4b24-9519-dfcc84828b33",
   "metadata": {},
   "source": [
    "# Settings"
   ]
  },
  {
   "cell_type": "code",
   "execution_count": 7,
   "id": "17e2256c-705b-4820-a3e0-1feb9c015497",
   "metadata": {},
   "outputs": [],
   "source": [
    "pd.set_option('display.max_columns', None)\n",
    "sns.set(style=\"white\")"
   ]
  },
  {
   "cell_type": "markdown",
   "id": "28dd6e18-4fd4-4df5-8230-8e0ca85fdb76",
   "metadata": {},
   "source": [
    "# Load Dataset"
   ]
  },
  {
   "cell_type": "code",
   "execution_count": 70,
   "id": "eb36ad78-809d-4af1-a8d5-6634c1fc8a5d",
   "metadata": {
    "scrolled": true
   },
   "outputs": [
    {
     "data": {
      "text/html": [
       "<div>\n",
       "<style scoped>\n",
       "    .dataframe tbody tr th:only-of-type {\n",
       "        vertical-align: middle;\n",
       "    }\n",
       "\n",
       "    .dataframe tbody tr th {\n",
       "        vertical-align: top;\n",
       "    }\n",
       "\n",
       "    .dataframe thead th {\n",
       "        text-align: right;\n",
       "    }\n",
       "</style>\n",
       "<table border=\"1\" class=\"dataframe\">\n",
       "  <thead>\n",
       "    <tr style=\"text-align: right;\">\n",
       "      <th></th>\n",
       "      <th>EmployeeID</th>\n",
       "      <th>FirstName</th>\n",
       "      <th>LastName</th>\n",
       "      <th>Gender</th>\n",
       "      <th>Age</th>\n",
       "      <th>BusinessTravel</th>\n",
       "      <th>Department</th>\n",
       "      <th>DistanceFromHome (KM)</th>\n",
       "      <th>State</th>\n",
       "      <th>Ethnicity</th>\n",
       "      <th>Education</th>\n",
       "      <th>EducationField</th>\n",
       "      <th>JobRole</th>\n",
       "      <th>MaritalStatus</th>\n",
       "      <th>Salary</th>\n",
       "      <th>StockOptionLevel</th>\n",
       "      <th>OverTime</th>\n",
       "      <th>HireDate</th>\n",
       "      <th>Attrition</th>\n",
       "      <th>YearsAtCompany</th>\n",
       "      <th>YearsInMostRecentRole</th>\n",
       "      <th>YearsSinceLastPromotion</th>\n",
       "      <th>YearsWithCurrManager</th>\n",
       "      <th>SatisfactionID</th>\n",
       "      <th>SatisfactionLevel</th>\n",
       "      <th>PerformanceID</th>\n",
       "      <th>ReviewDate</th>\n",
       "      <th>EnvironmentSatisfaction</th>\n",
       "      <th>JobSatisfaction</th>\n",
       "      <th>RelationshipSatisfaction</th>\n",
       "      <th>TrainingOpportunitiesWithinYear</th>\n",
       "      <th>TrainingOpportunitiesTaken</th>\n",
       "      <th>WorkLifeBalance</th>\n",
       "      <th>SelfRating</th>\n",
       "      <th>ManagerRating</th>\n",
       "      <th>EducationLevelID</th>\n",
       "      <th>EducationLevel</th>\n",
       "      <th>RatingID</th>\n",
       "      <th>RatingLevel</th>\n",
       "    </tr>\n",
       "  </thead>\n",
       "  <tbody>\n",
       "    <tr>\n",
       "      <th>0</th>\n",
       "      <td>3012-1A41</td>\n",
       "      <td>Leonelle</td>\n",
       "      <td>Simco</td>\n",
       "      <td>Female</td>\n",
       "      <td>30.0</td>\n",
       "      <td>Some Travel</td>\n",
       "      <td>Sales</td>\n",
       "      <td>27.0</td>\n",
       "      <td>IL</td>\n",
       "      <td>White</td>\n",
       "      <td>5.0</td>\n",
       "      <td>Marketing</td>\n",
       "      <td>Sales Executive</td>\n",
       "      <td>Divorced</td>\n",
       "      <td>102059.0</td>\n",
       "      <td>1.0</td>\n",
       "      <td>No</td>\n",
       "      <td>1/3/2012</td>\n",
       "      <td>No</td>\n",
       "      <td>10.0</td>\n",
       "      <td>4.0</td>\n",
       "      <td>9.0</td>\n",
       "      <td>7.0</td>\n",
       "      <td>NaN</td>\n",
       "      <td>NaN</td>\n",
       "      <td>NaN</td>\n",
       "      <td>NaN</td>\n",
       "      <td>NaN</td>\n",
       "      <td>NaN</td>\n",
       "      <td>NaN</td>\n",
       "      <td>NaN</td>\n",
       "      <td>NaN</td>\n",
       "      <td>NaN</td>\n",
       "      <td>NaN</td>\n",
       "      <td>NaN</td>\n",
       "      <td>NaN</td>\n",
       "      <td>NaN</td>\n",
       "      <td>NaN</td>\n",
       "      <td>NaN</td>\n",
       "    </tr>\n",
       "    <tr>\n",
       "      <th>1</th>\n",
       "      <td>CBCB-9C9D</td>\n",
       "      <td>Leonerd</td>\n",
       "      <td>Aland</td>\n",
       "      <td>Male</td>\n",
       "      <td>38.0</td>\n",
       "      <td>Some Travel</td>\n",
       "      <td>Sales</td>\n",
       "      <td>23.0</td>\n",
       "      <td>CA</td>\n",
       "      <td>White</td>\n",
       "      <td>4.0</td>\n",
       "      <td>Marketing</td>\n",
       "      <td>Sales Executive</td>\n",
       "      <td>Single</td>\n",
       "      <td>157718.0</td>\n",
       "      <td>0.0</td>\n",
       "      <td>Yes</td>\n",
       "      <td>1/4/2012</td>\n",
       "      <td>No</td>\n",
       "      <td>10.0</td>\n",
       "      <td>6.0</td>\n",
       "      <td>10.0</td>\n",
       "      <td>0.0</td>\n",
       "      <td>NaN</td>\n",
       "      <td>NaN</td>\n",
       "      <td>NaN</td>\n",
       "      <td>NaN</td>\n",
       "      <td>NaN</td>\n",
       "      <td>NaN</td>\n",
       "      <td>NaN</td>\n",
       "      <td>NaN</td>\n",
       "      <td>NaN</td>\n",
       "      <td>NaN</td>\n",
       "      <td>NaN</td>\n",
       "      <td>NaN</td>\n",
       "      <td>NaN</td>\n",
       "      <td>NaN</td>\n",
       "      <td>NaN</td>\n",
       "      <td>NaN</td>\n",
       "    </tr>\n",
       "    <tr>\n",
       "      <th>2</th>\n",
       "      <td>95D7-1CE9</td>\n",
       "      <td>Ahmed</td>\n",
       "      <td>Sykes</td>\n",
       "      <td>Male</td>\n",
       "      <td>43.0</td>\n",
       "      <td>Some Travel</td>\n",
       "      <td>Human Resources</td>\n",
       "      <td>29.0</td>\n",
       "      <td>CA</td>\n",
       "      <td>Asian or Asian American</td>\n",
       "      <td>4.0</td>\n",
       "      <td>Marketing</td>\n",
       "      <td>HR Business Partner</td>\n",
       "      <td>Married</td>\n",
       "      <td>309964.0</td>\n",
       "      <td>1.0</td>\n",
       "      <td>No</td>\n",
       "      <td>1/4/2012</td>\n",
       "      <td>No</td>\n",
       "      <td>10.0</td>\n",
       "      <td>6.0</td>\n",
       "      <td>10.0</td>\n",
       "      <td>8.0</td>\n",
       "      <td>NaN</td>\n",
       "      <td>NaN</td>\n",
       "      <td>NaN</td>\n",
       "      <td>NaN</td>\n",
       "      <td>NaN</td>\n",
       "      <td>NaN</td>\n",
       "      <td>NaN</td>\n",
       "      <td>NaN</td>\n",
       "      <td>NaN</td>\n",
       "      <td>NaN</td>\n",
       "      <td>NaN</td>\n",
       "      <td>NaN</td>\n",
       "      <td>NaN</td>\n",
       "      <td>NaN</td>\n",
       "      <td>NaN</td>\n",
       "      <td>NaN</td>\n",
       "    </tr>\n",
       "    <tr>\n",
       "      <th>3</th>\n",
       "      <td>47A0-559B</td>\n",
       "      <td>Ermentrude</td>\n",
       "      <td>Berrie</td>\n",
       "      <td>Non-Binary</td>\n",
       "      <td>39.0</td>\n",
       "      <td>Some Travel</td>\n",
       "      <td>Technology</td>\n",
       "      <td>12.0</td>\n",
       "      <td>IL</td>\n",
       "      <td>White</td>\n",
       "      <td>3.0</td>\n",
       "      <td>Computer Science</td>\n",
       "      <td>Engineering Manager</td>\n",
       "      <td>Married</td>\n",
       "      <td>293132.0</td>\n",
       "      <td>0.0</td>\n",
       "      <td>No</td>\n",
       "      <td>1/5/2012</td>\n",
       "      <td>No</td>\n",
       "      <td>10.0</td>\n",
       "      <td>10.0</td>\n",
       "      <td>10.0</td>\n",
       "      <td>0.0</td>\n",
       "      <td>NaN</td>\n",
       "      <td>NaN</td>\n",
       "      <td>NaN</td>\n",
       "      <td>NaN</td>\n",
       "      <td>NaN</td>\n",
       "      <td>NaN</td>\n",
       "      <td>NaN</td>\n",
       "      <td>NaN</td>\n",
       "      <td>NaN</td>\n",
       "      <td>NaN</td>\n",
       "      <td>NaN</td>\n",
       "      <td>NaN</td>\n",
       "      <td>NaN</td>\n",
       "      <td>NaN</td>\n",
       "      <td>NaN</td>\n",
       "      <td>NaN</td>\n",
       "    </tr>\n",
       "    <tr>\n",
       "      <th>4</th>\n",
       "      <td>42CC-040A</td>\n",
       "      <td>Stace</td>\n",
       "      <td>Savege</td>\n",
       "      <td>Female</td>\n",
       "      <td>29.0</td>\n",
       "      <td>Some Travel</td>\n",
       "      <td>Human Resources</td>\n",
       "      <td>29.0</td>\n",
       "      <td>CA</td>\n",
       "      <td>White</td>\n",
       "      <td>2.0</td>\n",
       "      <td>Technical Degree</td>\n",
       "      <td>Recruiter</td>\n",
       "      <td>Single</td>\n",
       "      <td>49606.0</td>\n",
       "      <td>0.0</td>\n",
       "      <td>No</td>\n",
       "      <td>1/5/2012</td>\n",
       "      <td>Yes</td>\n",
       "      <td>6.0</td>\n",
       "      <td>1.0</td>\n",
       "      <td>1.0</td>\n",
       "      <td>6.0</td>\n",
       "      <td>NaN</td>\n",
       "      <td>NaN</td>\n",
       "      <td>NaN</td>\n",
       "      <td>NaN</td>\n",
       "      <td>NaN</td>\n",
       "      <td>NaN</td>\n",
       "      <td>NaN</td>\n",
       "      <td>NaN</td>\n",
       "      <td>NaN</td>\n",
       "      <td>NaN</td>\n",
       "      <td>NaN</td>\n",
       "      <td>NaN</td>\n",
       "      <td>NaN</td>\n",
       "      <td>NaN</td>\n",
       "      <td>NaN</td>\n",
       "      <td>NaN</td>\n",
       "    </tr>\n",
       "    <tr>\n",
       "      <th>...</th>\n",
       "      <td>...</td>\n",
       "      <td>...</td>\n",
       "      <td>...</td>\n",
       "      <td>...</td>\n",
       "      <td>...</td>\n",
       "      <td>...</td>\n",
       "      <td>...</td>\n",
       "      <td>...</td>\n",
       "      <td>...</td>\n",
       "      <td>...</td>\n",
       "      <td>...</td>\n",
       "      <td>...</td>\n",
       "      <td>...</td>\n",
       "      <td>...</td>\n",
       "      <td>...</td>\n",
       "      <td>...</td>\n",
       "      <td>...</td>\n",
       "      <td>...</td>\n",
       "      <td>...</td>\n",
       "      <td>...</td>\n",
       "      <td>...</td>\n",
       "      <td>...</td>\n",
       "      <td>...</td>\n",
       "      <td>...</td>\n",
       "      <td>...</td>\n",
       "      <td>...</td>\n",
       "      <td>...</td>\n",
       "      <td>...</td>\n",
       "      <td>...</td>\n",
       "      <td>...</td>\n",
       "      <td>...</td>\n",
       "      <td>...</td>\n",
       "      <td>...</td>\n",
       "      <td>...</td>\n",
       "      <td>...</td>\n",
       "      <td>...</td>\n",
       "      <td>...</td>\n",
       "      <td>...</td>\n",
       "      <td>...</td>\n",
       "    </tr>\n",
       "    <tr>\n",
       "      <th>8189</th>\n",
       "      <td>NaN</td>\n",
       "      <td>NaN</td>\n",
       "      <td>NaN</td>\n",
       "      <td>NaN</td>\n",
       "      <td>NaN</td>\n",
       "      <td>NaN</td>\n",
       "      <td>NaN</td>\n",
       "      <td>NaN</td>\n",
       "      <td>NaN</td>\n",
       "      <td>NaN</td>\n",
       "      <td>NaN</td>\n",
       "      <td>NaN</td>\n",
       "      <td>NaN</td>\n",
       "      <td>NaN</td>\n",
       "      <td>NaN</td>\n",
       "      <td>NaN</td>\n",
       "      <td>NaN</td>\n",
       "      <td>NaN</td>\n",
       "      <td>NaN</td>\n",
       "      <td>NaN</td>\n",
       "      <td>NaN</td>\n",
       "      <td>NaN</td>\n",
       "      <td>NaN</td>\n",
       "      <td>NaN</td>\n",
       "      <td>NaN</td>\n",
       "      <td>NaN</td>\n",
       "      <td>NaN</td>\n",
       "      <td>NaN</td>\n",
       "      <td>NaN</td>\n",
       "      <td>NaN</td>\n",
       "      <td>NaN</td>\n",
       "      <td>NaN</td>\n",
       "      <td>NaN</td>\n",
       "      <td>NaN</td>\n",
       "      <td>NaN</td>\n",
       "      <td>NaN</td>\n",
       "      <td>NaN</td>\n",
       "      <td>1.0</td>\n",
       "      <td>Unacceptable</td>\n",
       "    </tr>\n",
       "    <tr>\n",
       "      <th>8190</th>\n",
       "      <td>NaN</td>\n",
       "      <td>NaN</td>\n",
       "      <td>NaN</td>\n",
       "      <td>NaN</td>\n",
       "      <td>NaN</td>\n",
       "      <td>NaN</td>\n",
       "      <td>NaN</td>\n",
       "      <td>NaN</td>\n",
       "      <td>NaN</td>\n",
       "      <td>NaN</td>\n",
       "      <td>NaN</td>\n",
       "      <td>NaN</td>\n",
       "      <td>NaN</td>\n",
       "      <td>NaN</td>\n",
       "      <td>NaN</td>\n",
       "      <td>NaN</td>\n",
       "      <td>NaN</td>\n",
       "      <td>NaN</td>\n",
       "      <td>NaN</td>\n",
       "      <td>NaN</td>\n",
       "      <td>NaN</td>\n",
       "      <td>NaN</td>\n",
       "      <td>NaN</td>\n",
       "      <td>NaN</td>\n",
       "      <td>NaN</td>\n",
       "      <td>NaN</td>\n",
       "      <td>NaN</td>\n",
       "      <td>NaN</td>\n",
       "      <td>NaN</td>\n",
       "      <td>NaN</td>\n",
       "      <td>NaN</td>\n",
       "      <td>NaN</td>\n",
       "      <td>NaN</td>\n",
       "      <td>NaN</td>\n",
       "      <td>NaN</td>\n",
       "      <td>NaN</td>\n",
       "      <td>NaN</td>\n",
       "      <td>2.0</td>\n",
       "      <td>Needs Improvement</td>\n",
       "    </tr>\n",
       "    <tr>\n",
       "      <th>8191</th>\n",
       "      <td>NaN</td>\n",
       "      <td>NaN</td>\n",
       "      <td>NaN</td>\n",
       "      <td>NaN</td>\n",
       "      <td>NaN</td>\n",
       "      <td>NaN</td>\n",
       "      <td>NaN</td>\n",
       "      <td>NaN</td>\n",
       "      <td>NaN</td>\n",
       "      <td>NaN</td>\n",
       "      <td>NaN</td>\n",
       "      <td>NaN</td>\n",
       "      <td>NaN</td>\n",
       "      <td>NaN</td>\n",
       "      <td>NaN</td>\n",
       "      <td>NaN</td>\n",
       "      <td>NaN</td>\n",
       "      <td>NaN</td>\n",
       "      <td>NaN</td>\n",
       "      <td>NaN</td>\n",
       "      <td>NaN</td>\n",
       "      <td>NaN</td>\n",
       "      <td>NaN</td>\n",
       "      <td>NaN</td>\n",
       "      <td>NaN</td>\n",
       "      <td>NaN</td>\n",
       "      <td>NaN</td>\n",
       "      <td>NaN</td>\n",
       "      <td>NaN</td>\n",
       "      <td>NaN</td>\n",
       "      <td>NaN</td>\n",
       "      <td>NaN</td>\n",
       "      <td>NaN</td>\n",
       "      <td>NaN</td>\n",
       "      <td>NaN</td>\n",
       "      <td>NaN</td>\n",
       "      <td>NaN</td>\n",
       "      <td>3.0</td>\n",
       "      <td>Meets Expectation</td>\n",
       "    </tr>\n",
       "    <tr>\n",
       "      <th>8192</th>\n",
       "      <td>NaN</td>\n",
       "      <td>NaN</td>\n",
       "      <td>NaN</td>\n",
       "      <td>NaN</td>\n",
       "      <td>NaN</td>\n",
       "      <td>NaN</td>\n",
       "      <td>NaN</td>\n",
       "      <td>NaN</td>\n",
       "      <td>NaN</td>\n",
       "      <td>NaN</td>\n",
       "      <td>NaN</td>\n",
       "      <td>NaN</td>\n",
       "      <td>NaN</td>\n",
       "      <td>NaN</td>\n",
       "      <td>NaN</td>\n",
       "      <td>NaN</td>\n",
       "      <td>NaN</td>\n",
       "      <td>NaN</td>\n",
       "      <td>NaN</td>\n",
       "      <td>NaN</td>\n",
       "      <td>NaN</td>\n",
       "      <td>NaN</td>\n",
       "      <td>NaN</td>\n",
       "      <td>NaN</td>\n",
       "      <td>NaN</td>\n",
       "      <td>NaN</td>\n",
       "      <td>NaN</td>\n",
       "      <td>NaN</td>\n",
       "      <td>NaN</td>\n",
       "      <td>NaN</td>\n",
       "      <td>NaN</td>\n",
       "      <td>NaN</td>\n",
       "      <td>NaN</td>\n",
       "      <td>NaN</td>\n",
       "      <td>NaN</td>\n",
       "      <td>NaN</td>\n",
       "      <td>NaN</td>\n",
       "      <td>4.0</td>\n",
       "      <td>Exceeds Expectation</td>\n",
       "    </tr>\n",
       "    <tr>\n",
       "      <th>8193</th>\n",
       "      <td>NaN</td>\n",
       "      <td>NaN</td>\n",
       "      <td>NaN</td>\n",
       "      <td>NaN</td>\n",
       "      <td>NaN</td>\n",
       "      <td>NaN</td>\n",
       "      <td>NaN</td>\n",
       "      <td>NaN</td>\n",
       "      <td>NaN</td>\n",
       "      <td>NaN</td>\n",
       "      <td>NaN</td>\n",
       "      <td>NaN</td>\n",
       "      <td>NaN</td>\n",
       "      <td>NaN</td>\n",
       "      <td>NaN</td>\n",
       "      <td>NaN</td>\n",
       "      <td>NaN</td>\n",
       "      <td>NaN</td>\n",
       "      <td>NaN</td>\n",
       "      <td>NaN</td>\n",
       "      <td>NaN</td>\n",
       "      <td>NaN</td>\n",
       "      <td>NaN</td>\n",
       "      <td>NaN</td>\n",
       "      <td>NaN</td>\n",
       "      <td>NaN</td>\n",
       "      <td>NaN</td>\n",
       "      <td>NaN</td>\n",
       "      <td>NaN</td>\n",
       "      <td>NaN</td>\n",
       "      <td>NaN</td>\n",
       "      <td>NaN</td>\n",
       "      <td>NaN</td>\n",
       "      <td>NaN</td>\n",
       "      <td>NaN</td>\n",
       "      <td>NaN</td>\n",
       "      <td>NaN</td>\n",
       "      <td>5.0</td>\n",
       "      <td>Above and Beyond</td>\n",
       "    </tr>\n",
       "  </tbody>\n",
       "</table>\n",
       "<p>8194 rows × 39 columns</p>\n",
       "</div>"
      ],
      "text/plain": [
       "     EmployeeID   FirstName LastName      Gender   Age BusinessTravel  \\\n",
       "0     3012-1A41    Leonelle    Simco      Female  30.0    Some Travel   \n",
       "1     CBCB-9C9D     Leonerd    Aland        Male  38.0    Some Travel   \n",
       "2     95D7-1CE9       Ahmed    Sykes        Male  43.0    Some Travel   \n",
       "3     47A0-559B  Ermentrude   Berrie  Non-Binary  39.0    Some Travel   \n",
       "4     42CC-040A       Stace   Savege      Female  29.0    Some Travel   \n",
       "...         ...         ...      ...         ...   ...            ...   \n",
       "8189        NaN         NaN      NaN         NaN   NaN            NaN   \n",
       "8190        NaN         NaN      NaN         NaN   NaN            NaN   \n",
       "8191        NaN         NaN      NaN         NaN   NaN            NaN   \n",
       "8192        NaN         NaN      NaN         NaN   NaN            NaN   \n",
       "8193        NaN         NaN      NaN         NaN   NaN            NaN   \n",
       "\n",
       "           Department  DistanceFromHome (KM) State                Ethnicity  \\\n",
       "0               Sales                   27.0    IL                    White   \n",
       "1               Sales                   23.0    CA                    White   \n",
       "2     Human Resources                   29.0    CA  Asian or Asian American   \n",
       "3          Technology                   12.0    IL                    White   \n",
       "4     Human Resources                   29.0    CA                    White   \n",
       "...               ...                    ...   ...                      ...   \n",
       "8189              NaN                    NaN   NaN                      NaN   \n",
       "8190              NaN                    NaN   NaN                      NaN   \n",
       "8191              NaN                    NaN   NaN                      NaN   \n",
       "8192              NaN                    NaN   NaN                      NaN   \n",
       "8193              NaN                    NaN   NaN                      NaN   \n",
       "\n",
       "      Education    EducationField              JobRole MaritalStatus  \\\n",
       "0           5.0         Marketing      Sales Executive      Divorced   \n",
       "1           4.0         Marketing      Sales Executive        Single   \n",
       "2           4.0        Marketing   HR Business Partner       Married   \n",
       "3           3.0  Computer Science  Engineering Manager       Married   \n",
       "4           2.0  Technical Degree            Recruiter        Single   \n",
       "...         ...               ...                  ...           ...   \n",
       "8189        NaN               NaN                  NaN           NaN   \n",
       "8190        NaN               NaN                  NaN           NaN   \n",
       "8191        NaN               NaN                  NaN           NaN   \n",
       "8192        NaN               NaN                  NaN           NaN   \n",
       "8193        NaN               NaN                  NaN           NaN   \n",
       "\n",
       "        Salary  StockOptionLevel OverTime  HireDate Attrition  YearsAtCompany  \\\n",
       "0     102059.0               1.0       No  1/3/2012        No            10.0   \n",
       "1     157718.0               0.0      Yes  1/4/2012        No            10.0   \n",
       "2     309964.0               1.0       No  1/4/2012        No            10.0   \n",
       "3     293132.0               0.0       No  1/5/2012        No            10.0   \n",
       "4      49606.0               0.0       No  1/5/2012       Yes             6.0   \n",
       "...        ...               ...      ...       ...       ...             ...   \n",
       "8189       NaN               NaN      NaN       NaN       NaN             NaN   \n",
       "8190       NaN               NaN      NaN       NaN       NaN             NaN   \n",
       "8191       NaN               NaN      NaN       NaN       NaN             NaN   \n",
       "8192       NaN               NaN      NaN       NaN       NaN             NaN   \n",
       "8193       NaN               NaN      NaN       NaN       NaN             NaN   \n",
       "\n",
       "      YearsInMostRecentRole  YearsSinceLastPromotion  YearsWithCurrManager  \\\n",
       "0                       4.0                      9.0                   7.0   \n",
       "1                       6.0                     10.0                   0.0   \n",
       "2                       6.0                     10.0                   8.0   \n",
       "3                      10.0                     10.0                   0.0   \n",
       "4                       1.0                      1.0                   6.0   \n",
       "...                     ...                      ...                   ...   \n",
       "8189                    NaN                      NaN                   NaN   \n",
       "8190                    NaN                      NaN                   NaN   \n",
       "8191                    NaN                      NaN                   NaN   \n",
       "8192                    NaN                      NaN                   NaN   \n",
       "8193                    NaN                      NaN                   NaN   \n",
       "\n",
       "      SatisfactionID SatisfactionLevel PerformanceID ReviewDate  \\\n",
       "0                NaN               NaN           NaN        NaN   \n",
       "1                NaN               NaN           NaN        NaN   \n",
       "2                NaN               NaN           NaN        NaN   \n",
       "3                NaN               NaN           NaN        NaN   \n",
       "4                NaN               NaN           NaN        NaN   \n",
       "...              ...               ...           ...        ...   \n",
       "8189             NaN               NaN           NaN        NaN   \n",
       "8190             NaN               NaN           NaN        NaN   \n",
       "8191             NaN               NaN           NaN        NaN   \n",
       "8192             NaN               NaN           NaN        NaN   \n",
       "8193             NaN               NaN           NaN        NaN   \n",
       "\n",
       "      EnvironmentSatisfaction  JobSatisfaction  RelationshipSatisfaction  \\\n",
       "0                         NaN              NaN                       NaN   \n",
       "1                         NaN              NaN                       NaN   \n",
       "2                         NaN              NaN                       NaN   \n",
       "3                         NaN              NaN                       NaN   \n",
       "4                         NaN              NaN                       NaN   \n",
       "...                       ...              ...                       ...   \n",
       "8189                      NaN              NaN                       NaN   \n",
       "8190                      NaN              NaN                       NaN   \n",
       "8191                      NaN              NaN                       NaN   \n",
       "8192                      NaN              NaN                       NaN   \n",
       "8193                      NaN              NaN                       NaN   \n",
       "\n",
       "      TrainingOpportunitiesWithinYear  TrainingOpportunitiesTaken  \\\n",
       "0                                 NaN                         NaN   \n",
       "1                                 NaN                         NaN   \n",
       "2                                 NaN                         NaN   \n",
       "3                                 NaN                         NaN   \n",
       "4                                 NaN                         NaN   \n",
       "...                               ...                         ...   \n",
       "8189                              NaN                         NaN   \n",
       "8190                              NaN                         NaN   \n",
       "8191                              NaN                         NaN   \n",
       "8192                              NaN                         NaN   \n",
       "8193                              NaN                         NaN   \n",
       "\n",
       "      WorkLifeBalance  SelfRating  ManagerRating  EducationLevelID  \\\n",
       "0                 NaN         NaN            NaN               NaN   \n",
       "1                 NaN         NaN            NaN               NaN   \n",
       "2                 NaN         NaN            NaN               NaN   \n",
       "3                 NaN         NaN            NaN               NaN   \n",
       "4                 NaN         NaN            NaN               NaN   \n",
       "...               ...         ...            ...               ...   \n",
       "8189              NaN         NaN            NaN               NaN   \n",
       "8190              NaN         NaN            NaN               NaN   \n",
       "8191              NaN         NaN            NaN               NaN   \n",
       "8192              NaN         NaN            NaN               NaN   \n",
       "8193              NaN         NaN            NaN               NaN   \n",
       "\n",
       "     EducationLevel  RatingID           RatingLevel  \n",
       "0               NaN       NaN                   NaN  \n",
       "1               NaN       NaN                   NaN  \n",
       "2               NaN       NaN                   NaN  \n",
       "3               NaN       NaN                   NaN  \n",
       "4               NaN       NaN                   NaN  \n",
       "...             ...       ...                   ...  \n",
       "8189            NaN       1.0          Unacceptable  \n",
       "8190            NaN       2.0     Needs Improvement  \n",
       "8191            NaN       3.0     Meets Expectation  \n",
       "8192            NaN       4.0  Exceeds Expectation   \n",
       "8193            NaN       5.0      Above and Beyond  \n",
       "\n",
       "[8194 rows x 39 columns]"
      ]
     },
     "execution_count": 70,
     "metadata": {},
     "output_type": "execute_result"
    }
   ],
   "source": [
    "# Load CSVs\n",
    "employee_df = pd.read_csv(\"D:\\\\Pratham\\\\Projects\\\\Employee Attrition and Workforce Report\\\\Employee.csv\")\n",
    "satisfaction_df = pd.read_csv(\"D:\\\\Pratham\\\\Projects\\\\Employee Attrition and Workforce Report\\\\Satisfaction Level.csv\")\n",
    "performance_df = pd.read_csv(\"D:\\\\Pratham\\\\Projects\\\\Employee Attrition and Workforce Report\\\\Performance Rating.csv\")\n",
    "education_df = pd.read_csv(\"D:\\\\Pratham\\\\Projects\\\\Employee Attrition and Workforce Report\\\\Education.csv\")\n",
    "rating_df = pd.read_csv(\"D:\\\\Pratham\\\\Projects\\\\Employee Attrition and Workforce Report\\\\Rating.csv\")\n",
    "\n",
    "df_combined = pd.concat([employee_df, satisfaction_df, performance_df, education_df, rating_df], ignore_index=True)\n",
    "df_combined"
   ]
  },
  {
   "cell_type": "markdown",
   "id": "d0f4c4da-f823-43f4-ba65-f2e9980185a4",
   "metadata": {},
   "source": [
    "# Initial Data Inspection"
   ]
  },
  {
   "cell_type": "code",
   "execution_count": 28,
   "id": "2826a1c7-c329-4b1e-9fcd-9767636b9d40",
   "metadata": {},
   "outputs": [
    {
     "name": "stdout",
     "output_type": "stream",
     "text": [
      "(6899, 35)\n"
     ]
    }
   ],
   "source": [
    "print(df.shape)"
   ]
  },
  {
   "cell_type": "code",
   "execution_count": 30,
   "id": "188229ae-3ec9-4c33-9dc2-b14d7090f3a2",
   "metadata": {
    "scrolled": true
   },
   "outputs": [
    {
     "name": "stdout",
     "output_type": "stream",
     "text": [
      "<class 'pandas.core.frame.DataFrame'>\n",
      "RangeIndex: 6899 entries, 0 to 6898\n",
      "Data columns (total 35 columns):\n",
      " #   Column                           Non-Null Count  Dtype  \n",
      "---  ------                           --------------  -----  \n",
      " 0   employeeid                       6899 non-null   object \n",
      " 1   firstname                        6899 non-null   object \n",
      " 2   lastname                         6899 non-null   object \n",
      " 3   gender                           6899 non-null   object \n",
      " 4   age                              6899 non-null   int64  \n",
      " 5   businesstravel                   6899 non-null   object \n",
      " 6   department                       6899 non-null   object \n",
      " 7   distancefromhomekm               6899 non-null   int64  \n",
      " 8   state                            6899 non-null   object \n",
      " 9   ethnicity                        6899 non-null   object \n",
      " 10  education                        6899 non-null   int64  \n",
      " 11  educationfield                   6899 non-null   object \n",
      " 12  jobrole                          6899 non-null   object \n",
      " 13  maritalstatus                    6899 non-null   object \n",
      " 14  salary                           6899 non-null   int64  \n",
      " 15  stockoptionlevel                 6899 non-null   int64  \n",
      " 16  overtime                         6899 non-null   object \n",
      " 17  hiredate                         6899 non-null   object \n",
      " 18  attrition                        6899 non-null   object \n",
      " 19  yearsatcompany                   6899 non-null   int64  \n",
      " 20  yearsinmostrecentrole            6899 non-null   int64  \n",
      " 21  yearssincelastpromotion          6899 non-null   int64  \n",
      " 22  yearswithcurrmanager             6899 non-null   int64  \n",
      " 23  performanceid                    6709 non-null   object \n",
      " 24  reviewdate                       6709 non-null   object \n",
      " 25  environmentsatisfaction          6709 non-null   float64\n",
      " 26  jobsatisfaction                  6709 non-null   float64\n",
      " 27  relationshipsatisfaction         6709 non-null   float64\n",
      " 28  trainingopportunitieswithinyear  6709 non-null   float64\n",
      " 29  trainingopportunitiestaken       6709 non-null   float64\n",
      " 30  worklifebalance                  6709 non-null   float64\n",
      " 31  selfrating                       6709 non-null   float64\n",
      " 32  managerrating                    6709 non-null   float64\n",
      " 33  satisfactionid                   0 non-null      object \n",
      " 34  satisfactionlevel                0 non-null      object \n",
      "dtypes: float64(8), int64(9), object(18)\n",
      "memory usage: 1.8+ MB\n",
      "None\n"
     ]
    }
   ],
   "source": [
    "print(df.info())"
   ]
  },
  {
   "cell_type": "code",
   "execution_count": 34,
   "id": "3a511010-cbee-4b13-98da-dae34f7e031f",
   "metadata": {
    "scrolled": true
   },
   "outputs": [
    {
     "name": "stdout",
     "output_type": "stream",
     "text": [
      "               age  distancefromhomekm    education         salary  \\\n",
      "count  6899.000000         6899.000000  6899.000000    6899.000000   \n",
      "mean     30.604146           22.327874     2.866647  110898.374112   \n",
      "std       7.986542           12.899799     1.028396   98427.862382   \n",
      "min      18.000000            1.000000     1.000000   20387.000000   \n",
      "25%      25.000000           12.000000     2.000000   44646.000000   \n",
      "50%      28.000000           22.000000     3.000000   74458.000000   \n",
      "75%      36.000000           33.000000     4.000000  137219.500000   \n",
      "max      51.000000           45.000000     5.000000  547204.000000   \n",
      "\n",
      "       stockoptionlevel  yearsatcompany  yearsinmostrecentrole  \\\n",
      "count       6899.000000     6899.000000            6899.000000   \n",
      "mean           0.725467        5.578055               2.778953   \n",
      "std            0.839724        3.410087               2.810170   \n",
      "min            0.000000        0.000000               0.000000   \n",
      "25%            0.000000        3.000000               0.000000   \n",
      "50%            1.000000        6.000000               2.000000   \n",
      "75%            1.000000        9.000000               5.000000   \n",
      "max            3.000000       10.000000              10.000000   \n",
      "\n",
      "       yearssincelastpromotion  yearswithcurrmanager  environmentsatisfaction  \\\n",
      "count              6899.000000           6899.000000              6709.000000   \n",
      "mean                  4.143934              2.741412                 3.872559   \n",
      "std                   3.203770              2.792284                 0.940701   \n",
      "min                   0.000000              0.000000                 1.000000   \n",
      "25%                   1.000000              0.000000                 3.000000   \n",
      "50%                   4.000000              2.000000                 4.000000   \n",
      "75%                   7.000000              5.000000                 5.000000   \n",
      "max                  10.000000             10.000000                 5.000000   \n",
      "\n",
      "       jobsatisfaction  relationshipsatisfaction  \\\n",
      "count      6709.000000               6709.000000   \n",
      "mean          3.430616                  3.427336   \n",
      "std           1.152565                  1.156753   \n",
      "min           1.000000                  1.000000   \n",
      "25%           2.000000                  2.000000   \n",
      "50%           3.000000                  3.000000   \n",
      "75%           4.000000                  4.000000   \n",
      "max           5.000000                  5.000000   \n",
      "\n",
      "       trainingopportunitieswithinyear  trainingopportunitiestaken  \\\n",
      "count                      6709.000000                 6709.000000   \n",
      "mean                          2.012968                    1.017290   \n",
      "std                           0.820310                    0.950316   \n",
      "min                           1.000000                    0.000000   \n",
      "25%                           1.000000                    0.000000   \n",
      "50%                           2.000000                    1.000000   \n",
      "75%                           3.000000                    2.000000   \n",
      "max                           3.000000                    3.000000   \n",
      "\n",
      "       worklifebalance   selfrating  managerrating  \n",
      "count      6709.000000  6709.000000    6709.000000  \n",
      "mean          3.414667     3.984051       3.473394  \n",
      "std           1.143961     0.816432       0.961738  \n",
      "min           1.000000     3.000000       2.000000  \n",
      "25%           2.000000     3.000000       3.000000  \n",
      "50%           3.000000     4.000000       3.000000  \n",
      "75%           4.000000     5.000000       4.000000  \n",
      "max           5.000000     5.000000       5.000000  \n"
     ]
    }
   ],
   "source": [
    "print(df.describe())"
   ]
  },
  {
   "cell_type": "code",
   "execution_count": 32,
   "id": "a4d89d75-39fe-4269-9223-164b467b63d4",
   "metadata": {
    "scrolled": true
   },
   "outputs": [
    {
     "name": "stdout",
     "output_type": "stream",
     "text": [
      "  employeeid firstname lastname  gender  age businesstravel department  \\\n",
      "0  3012-1A41  Leonelle    Simco  Female   30    Some Travel      Sales   \n",
      "1  3012-1A41  Leonelle    Simco  Female   30    Some Travel      Sales   \n",
      "2  3012-1A41  Leonelle    Simco  Female   30    Some Travel      Sales   \n",
      "3  3012-1A41  Leonelle    Simco  Female   30    Some Travel      Sales   \n",
      "4  3012-1A41  Leonelle    Simco  Female   30    Some Travel      Sales   \n",
      "5  3012-1A41  Leonelle    Simco  Female   30    Some Travel      Sales   \n",
      "6  3012-1A41  Leonelle    Simco  Female   30    Some Travel      Sales   \n",
      "7  3012-1A41  Leonelle    Simco  Female   30    Some Travel      Sales   \n",
      "8  3012-1A41  Leonelle    Simco  Female   30    Some Travel      Sales   \n",
      "9  CBCB-9C9D   Leonerd    Aland    Male   38    Some Travel      Sales   \n",
      "\n",
      "   distancefromhomekm state ethnicity  education educationfield  \\\n",
      "0                  27    IL     White          5      Marketing   \n",
      "1                  27    IL     White          5      Marketing   \n",
      "2                  27    IL     White          5      Marketing   \n",
      "3                  27    IL     White          5      Marketing   \n",
      "4                  27    IL     White          5      Marketing   \n",
      "5                  27    IL     White          5      Marketing   \n",
      "6                  27    IL     White          5      Marketing   \n",
      "7                  27    IL     White          5      Marketing   \n",
      "8                  27    IL     White          5      Marketing   \n",
      "9                  23    CA     White          4      Marketing   \n",
      "\n",
      "           jobrole maritalstatus  salary  stockoptionlevel overtime  hiredate  \\\n",
      "0  Sales Executive      Divorced  102059                 1       No  1/3/2012   \n",
      "1  Sales Executive      Divorced  102059                 1       No  1/3/2012   \n",
      "2  Sales Executive      Divorced  102059                 1       No  1/3/2012   \n",
      "3  Sales Executive      Divorced  102059                 1       No  1/3/2012   \n",
      "4  Sales Executive      Divorced  102059                 1       No  1/3/2012   \n",
      "5  Sales Executive      Divorced  102059                 1       No  1/3/2012   \n",
      "6  Sales Executive      Divorced  102059                 1       No  1/3/2012   \n",
      "7  Sales Executive      Divorced  102059                 1       No  1/3/2012   \n",
      "8  Sales Executive      Divorced  102059                 1       No  1/3/2012   \n",
      "9  Sales Executive        Single  157718                 0      Yes  1/4/2012   \n",
      "\n",
      "  attrition  yearsatcompany  yearsinmostrecentrole  yearssincelastpromotion  \\\n",
      "0        No              10                      4                        9   \n",
      "1        No              10                      4                        9   \n",
      "2        No              10                      4                        9   \n",
      "3        No              10                      4                        9   \n",
      "4        No              10                      4                        9   \n",
      "5        No              10                      4                        9   \n",
      "6        No              10                      4                        9   \n",
      "7        No              10                      4                        9   \n",
      "8        No              10                      4                        9   \n",
      "9        No              10                      6                       10   \n",
      "\n",
      "   yearswithcurrmanager performanceid  reviewdate  environmentsatisfaction  \\\n",
      "0                     7        PR1295  10/30/2016                      3.0   \n",
      "1                     7        PR1908  10/30/2017                      4.0   \n",
      "2                     7        PR2617  10/30/2018                      5.0   \n",
      "3                     7        PR3436  10/30/2019                      1.0   \n",
      "4                     7         PR411  10/31/2014                      3.0   \n",
      "5                     7        PR4378  10/29/2020                      3.0   \n",
      "6                     7        PR5415  10/29/2021                      4.0   \n",
      "7                     7        PR6529  10/29/2022                      4.0   \n",
      "8                     7         PR791  10/31/2015                      5.0   \n",
      "9                     0        PR1213   7/30/2016                      3.0   \n",
      "\n",
      "   jobsatisfaction  relationshipsatisfaction  trainingopportunitieswithinyear  \\\n",
      "0              3.0                       2.0                              3.0   \n",
      "1              4.0                       5.0                              3.0   \n",
      "2              5.0                       4.0                              3.0   \n",
      "3              3.0                       2.0                              3.0   \n",
      "4              4.0                       2.0                              1.0   \n",
      "5              2.0                       5.0                              1.0   \n",
      "6              5.0                       4.0                              1.0   \n",
      "7              2.0                       4.0                              1.0   \n",
      "8              5.0                       2.0                              2.0   \n",
      "9              3.0                       2.0                              2.0   \n",
      "\n",
      "   trainingopportunitiestaken  worklifebalance  selfrating  managerrating  \\\n",
      "0                         0.0              4.0         3.0            3.0   \n",
      "1                         1.0              2.0         3.0            2.0   \n",
      "2                         0.0              4.0         5.0            5.0   \n",
      "3                         1.0              3.0         5.0            4.0   \n",
      "4                         0.0              3.0         4.0            3.0   \n",
      "5                         0.0              3.0         5.0            4.0   \n",
      "6                         0.0              4.0         3.0            3.0   \n",
      "7                         0.0              2.0         5.0            4.0   \n",
      "8                         1.0              5.0         4.0            4.0   \n",
      "9                         0.0              5.0         4.0            4.0   \n",
      "\n",
      "  satisfactionid satisfactionlevel  \n",
      "0            NaN               NaN  \n",
      "1            NaN               NaN  \n",
      "2            NaN               NaN  \n",
      "3            NaN               NaN  \n",
      "4            NaN               NaN  \n",
      "5            NaN               NaN  \n",
      "6            NaN               NaN  \n",
      "7            NaN               NaN  \n",
      "8            NaN               NaN  \n",
      "9            NaN               NaN  \n"
     ]
    }
   ],
   "source": [
    "print(df.head(10))"
   ]
  },
  {
   "cell_type": "code",
   "execution_count": 36,
   "id": "85d34269-7da4-4ae2-a834-130ad0a28730",
   "metadata": {
    "scrolled": true
   },
   "outputs": [
    {
     "name": "stdout",
     "output_type": "stream",
     "text": [
      "                                      age  distancefromhomekm  education  \\\n",
      "age                              1.000000            0.019297  -0.031915   \n",
      "distancefromhomekm               0.019297            1.000000  -0.012691   \n",
      "education                       -0.031915           -0.012691   1.000000   \n",
      "salary                           0.424894            0.077521   0.096723   \n",
      "stockoptionlevel                 0.043346            0.035800   0.036668   \n",
      "yearsatcompany                   0.642532           -0.024620  -0.039816   \n",
      "yearsinmostrecentrole            0.415341           -0.016868  -0.039948   \n",
      "yearssincelastpromotion          0.546807           -0.042576  -0.045126   \n",
      "yearswithcurrmanager             0.452875            0.006512  -0.060374   \n",
      "environmentsatisfaction          0.000761            0.003438  -0.016991   \n",
      "jobsatisfaction                  0.005613           -0.011745   0.000133   \n",
      "relationshipsatisfaction         0.004765            0.009588   0.009019   \n",
      "trainingopportunitieswithinyear -0.008929           -0.004386   0.016808   \n",
      "trainingopportunitiestaken      -0.000239           -0.018379  -0.005157   \n",
      "worklifebalance                 -0.003021            0.006256  -0.005051   \n",
      "selfrating                      -0.004051            0.031802  -0.015608   \n",
      "managerrating                    0.001665            0.025832  -0.009027   \n",
      "\n",
      "                                   salary  stockoptionlevel  yearsatcompany  \\\n",
      "age                              0.424894          0.043346        0.642532   \n",
      "distancefromhomekm               0.077521          0.035800       -0.024620   \n",
      "education                        0.096723          0.036668       -0.039816   \n",
      "salary                           1.000000          0.007104        0.212381   \n",
      "stockoptionlevel                 0.007104          1.000000        0.091169   \n",
      "yearsatcompany                   0.212381          0.091169        1.000000   \n",
      "yearsinmostrecentrole            0.109305          0.053837        0.651431   \n",
      "yearssincelastpromotion          0.162546          0.079785        0.848310   \n",
      "yearswithcurrmanager             0.118997          0.095352        0.657974   \n",
      "environmentsatisfaction         -0.011450         -0.001073        0.009715   \n",
      "jobsatisfaction                  0.005305         -0.003223        0.000870   \n",
      "relationshipsatisfaction        -0.000352          0.008141        0.004727   \n",
      "trainingopportunitieswithinyear  0.007713          0.003940       -0.000341   \n",
      "trainingopportunitiestaken       0.009903          0.001916        0.005904   \n",
      "worklifebalance                 -0.001517          0.006425        0.007934   \n",
      "selfrating                      -0.001343          0.015078        0.010818   \n",
      "managerrating                   -0.001597          0.005153        0.017866   \n",
      "\n",
      "                                 yearsinmostrecentrole  \\\n",
      "age                                           0.415341   \n",
      "distancefromhomekm                           -0.016868   \n",
      "education                                    -0.039948   \n",
      "salary                                        0.109305   \n",
      "stockoptionlevel                              0.053837   \n",
      "yearsatcompany                                0.651431   \n",
      "yearsinmostrecentrole                         1.000000   \n",
      "yearssincelastpromotion                       0.801233   \n",
      "yearswithcurrmanager                          0.411229   \n",
      "environmentsatisfaction                       0.009586   \n",
      "jobsatisfaction                              -0.003493   \n",
      "relationshipsatisfaction                      0.014645   \n",
      "trainingopportunitieswithinyear               0.000633   \n",
      "trainingopportunitiestaken                   -0.005237   \n",
      "worklifebalance                               0.021501   \n",
      "selfrating                                    0.020652   \n",
      "managerrating                                 0.032238   \n",
      "\n",
      "                                 yearssincelastpromotion  \\\n",
      "age                                             0.546807   \n",
      "distancefromhomekm                             -0.042576   \n",
      "education                                      -0.045126   \n",
      "salary                                          0.162546   \n",
      "stockoptionlevel                                0.079785   \n",
      "yearsatcompany                                  0.848310   \n",
      "yearsinmostrecentrole                           0.801233   \n",
      "yearssincelastpromotion                         1.000000   \n",
      "yearswithcurrmanager                            0.558008   \n",
      "environmentsatisfaction                         0.014020   \n",
      "jobsatisfaction                                -0.001107   \n",
      "relationshipsatisfaction                        0.001516   \n",
      "trainingopportunitieswithinyear                 0.003709   \n",
      "trainingopportunitiestaken                     -0.001751   \n",
      "worklifebalance                                 0.016354   \n",
      "selfrating                                      0.013622   \n",
      "managerrating                                   0.020470   \n",
      "\n",
      "                                 yearswithcurrmanager  \\\n",
      "age                                          0.452875   \n",
      "distancefromhomekm                           0.006512   \n",
      "education                                   -0.060374   \n",
      "salary                                       0.118997   \n",
      "stockoptionlevel                             0.095352   \n",
      "yearsatcompany                               0.657974   \n",
      "yearsinmostrecentrole                        0.411229   \n",
      "yearssincelastpromotion                      0.558008   \n",
      "yearswithcurrmanager                         1.000000   \n",
      "environmentsatisfaction                      0.018218   \n",
      "jobsatisfaction                              0.001096   \n",
      "relationshipsatisfaction                     0.007125   \n",
      "trainingopportunitieswithinyear             -0.000511   \n",
      "trainingopportunitiestaken                   0.003451   \n",
      "worklifebalance                             -0.015479   \n",
      "selfrating                                   0.003994   \n",
      "managerrating                                0.007312   \n",
      "\n",
      "                                 environmentsatisfaction  jobsatisfaction  \\\n",
      "age                                             0.000761         0.005613   \n",
      "distancefromhomekm                              0.003438        -0.011745   \n",
      "education                                      -0.016991         0.000133   \n",
      "salary                                         -0.011450         0.005305   \n",
      "stockoptionlevel                               -0.001073        -0.003223   \n",
      "yearsatcompany                                  0.009715         0.000870   \n",
      "yearsinmostrecentrole                           0.009586        -0.003493   \n",
      "yearssincelastpromotion                         0.014020        -0.001107   \n",
      "yearswithcurrmanager                            0.018218         0.001096   \n",
      "environmentsatisfaction                         1.000000         0.102046   \n",
      "jobsatisfaction                                 0.102046         1.000000   \n",
      "relationshipsatisfaction                        0.095539         0.048128   \n",
      "trainingopportunitieswithinyear                -0.005199        -0.021359   \n",
      "trainingopportunitiestaken                     -0.015211         0.002729   \n",
      "worklifebalance                                 0.098293         0.041724   \n",
      "selfrating                                      0.000459        -0.008701   \n",
      "managerrating                                  -0.005643        -0.015821   \n",
      "\n",
      "                                 relationshipsatisfaction  \\\n",
      "age                                              0.004765   \n",
      "distancefromhomekm                               0.009588   \n",
      "education                                        0.009019   \n",
      "salary                                          -0.000352   \n",
      "stockoptionlevel                                 0.008141   \n",
      "yearsatcompany                                   0.004727   \n",
      "yearsinmostrecentrole                            0.014645   \n",
      "yearssincelastpromotion                          0.001516   \n",
      "yearswithcurrmanager                             0.007125   \n",
      "environmentsatisfaction                          0.095539   \n",
      "jobsatisfaction                                  0.048128   \n",
      "relationshipsatisfaction                         1.000000   \n",
      "trainingopportunitieswithinyear                 -0.015110   \n",
      "trainingopportunitiestaken                      -0.013367   \n",
      "worklifebalance                                  0.055782   \n",
      "selfrating                                       0.018425   \n",
      "managerrating                                    0.018999   \n",
      "\n",
      "                                 trainingopportunitieswithinyear  \\\n",
      "age                                                    -0.008929   \n",
      "distancefromhomekm                                     -0.004386   \n",
      "education                                               0.016808   \n",
      "salary                                                  0.007713   \n",
      "stockoptionlevel                                        0.003940   \n",
      "yearsatcompany                                         -0.000341   \n",
      "yearsinmostrecentrole                                   0.000633   \n",
      "yearssincelastpromotion                                 0.003709   \n",
      "yearswithcurrmanager                                   -0.000511   \n",
      "environmentsatisfaction                                -0.005199   \n",
      "jobsatisfaction                                        -0.021359   \n",
      "relationshipsatisfaction                               -0.015110   \n",
      "trainingopportunitieswithinyear                         1.000000   \n",
      "trainingopportunitiestaken                              0.008318   \n",
      "worklifebalance                                         0.004277   \n",
      "selfrating                                             -0.010376   \n",
      "managerrating                                          -0.008538   \n",
      "\n",
      "                                 trainingopportunitiestaken  worklifebalance  \\\n",
      "age                                               -0.000239        -0.003021   \n",
      "distancefromhomekm                                -0.018379         0.006256   \n",
      "education                                         -0.005157        -0.005051   \n",
      "salary                                             0.009903        -0.001517   \n",
      "stockoptionlevel                                   0.001916         0.006425   \n",
      "yearsatcompany                                     0.005904         0.007934   \n",
      "yearsinmostrecentrole                             -0.005237         0.021501   \n",
      "yearssincelastpromotion                           -0.001751         0.016354   \n",
      "yearswithcurrmanager                               0.003451        -0.015479   \n",
      "environmentsatisfaction                           -0.015211         0.098293   \n",
      "jobsatisfaction                                    0.002729         0.041724   \n",
      "relationshipsatisfaction                          -0.013367         0.055782   \n",
      "trainingopportunitieswithinyear                    0.008318         0.004277   \n",
      "trainingopportunitiestaken                         1.000000         0.010134   \n",
      "worklifebalance                                    0.010134         1.000000   \n",
      "selfrating                                         0.009002         0.016021   \n",
      "managerrating                                      0.008496         0.007997   \n",
      "\n",
      "                                 selfrating  managerrating  \n",
      "age                               -0.004051       0.001665  \n",
      "distancefromhomekm                 0.031802       0.025832  \n",
      "education                         -0.015608      -0.009027  \n",
      "salary                            -0.001343      -0.001597  \n",
      "stockoptionlevel                   0.015078       0.005153  \n",
      "yearsatcompany                     0.010818       0.017866  \n",
      "yearsinmostrecentrole              0.020652       0.032238  \n",
      "yearssincelastpromotion            0.013622       0.020470  \n",
      "yearswithcurrmanager               0.003994       0.007312  \n",
      "environmentsatisfaction            0.000459      -0.005643  \n",
      "jobsatisfaction                   -0.008701      -0.015821  \n",
      "relationshipsatisfaction           0.018425       0.018999  \n",
      "trainingopportunitieswithinyear   -0.010376      -0.008538  \n",
      "trainingopportunitiestaken         0.009002       0.008496  \n",
      "worklifebalance                    0.016021       0.007997  \n",
      "selfrating                         1.000000       0.854107  \n",
      "managerrating                      0.854107       1.000000  \n"
     ]
    }
   ],
   "source": [
    "print(df.corr(numeric_only=True))"
   ]
  },
  {
   "cell_type": "code",
   "execution_count": 38,
   "id": "fd961e1f-1f13-415e-99b5-05c7e3c085f2",
   "metadata": {
    "scrolled": true
   },
   "outputs": [
    {
     "name": "stdout",
     "output_type": "stream",
     "text": [
      "                                           age  distancefromhomekm  \\\n",
      "age                                  63.784854            1.988029   \n",
      "distancefromhomekm                    1.988029          166.404806   \n",
      "education                            -0.262132           -0.168361   \n",
      "salary                           334008.793955        98427.828176   \n",
      "stockoptionlevel                      0.290700            0.387792   \n",
      "yearsatcompany                       17.499227           -1.083004   \n",
      "yearsinmostrecentrole                 9.321734           -0.611481   \n",
      "yearssincelastpromotion              13.991169           -1.759579   \n",
      "yearswithcurrmanager                 10.099419            0.234550   \n",
      "environmentsatisfaction               0.005679            0.041713   \n",
      "jobsatisfaction                       0.051291           -0.174588   \n",
      "relationshipsatisfaction              0.043702            0.143038   \n",
      "trainingopportunitieswithinyear      -0.058076           -0.046397   \n",
      "trainingopportunitiestaken           -0.001804           -0.225250   \n",
      "worklifebalance                      -0.027404            0.092297   \n",
      "selfrating                           -0.026221            0.334863   \n",
      "managerrating                         0.012693            0.320412   \n",
      "\n",
      "                                   education        salary  stockoptionlevel  \\\n",
      "age                                -0.262132  3.340088e+05          0.290700   \n",
      "distancefromhomekm                 -0.168361  9.842783e+04          0.387792   \n",
      "education                           1.057599  9.790555e+03          0.031666   \n",
      "salary                           9790.555115  9.688044e+09        587.200720   \n",
      "stockoptionlevel                    0.031666  5.872007e+02          0.705137   \n",
      "yearsatcompany                     -0.139633  7.128501e+04          0.261066   \n",
      "yearsinmostrecentrole              -0.115448  3.023366e+04          0.127042   \n",
      "yearssincelastpromotion            -0.148678  5.125727e+04          0.214643   \n",
      "yearswithcurrmanager               -0.173369  3.270497e+04          0.223577   \n",
      "environmentsatisfaction            -0.016441 -1.058432e+03         -0.000846   \n",
      "jobsatisfaction                     0.000157  6.009004e+02         -0.003116   \n",
      "relationshipsatisfaction            0.010731 -3.997755e+01          0.007898   \n",
      "trainingopportunitieswithinyear     0.014183  6.217597e+02          0.002711   \n",
      "trainingopportunitiestaken         -0.005041  9.247867e+02          0.001527   \n",
      "worklifebalance                    -0.005944 -1.705493e+02          0.006165   \n",
      "selfrating                         -0.013108 -1.077337e+02          0.010324   \n",
      "managerrating                      -0.008930 -1.509044e+02          0.004156   \n",
      "\n",
      "                                 yearsatcompany  yearsinmostrecentrole  \\\n",
      "age                                   17.499227               9.321734   \n",
      "distancefromhomekm                    -1.083004              -0.611481   \n",
      "education                             -0.139633              -0.115448   \n",
      "salary                             71285.009284           30233.661427   \n",
      "stockoptionlevel                       0.261066               0.127042   \n",
      "yearsatcompany                        11.628692               6.242611   \n",
      "yearsinmostrecentrole                  6.242611               7.897058   \n",
      "yearssincelastpromotion                9.267903               7.213613   \n",
      "yearswithcurrmanager                   6.265186               3.226827   \n",
      "environmentsatisfaction                0.030509               0.025375   \n",
      "jobsatisfaction                        0.003348              -0.011327   \n",
      "relationshipsatisfaction               0.018255               0.047672   \n",
      "trainingopportunitieswithinyear       -0.000933               0.001461   \n",
      "trainingopportunitiestaken             0.018733              -0.014003   \n",
      "worklifebalance                        0.030300               0.069212   \n",
      "selfrating                             0.029487               0.047445   \n",
      "managerrating                          0.057362               0.087245   \n",
      "\n",
      "                                 yearssincelastpromotion  \\\n",
      "age                                            13.991169   \n",
      "distancefromhomekm                             -1.759579   \n",
      "education                                      -0.148678   \n",
      "salary                                      51257.270297   \n",
      "stockoptionlevel                                0.214643   \n",
      "yearsatcompany                                  9.267903   \n",
      "yearsinmostrecentrole                           7.213613   \n",
      "yearssincelastpromotion                        10.264145   \n",
      "yearswithcurrmanager                            4.991850   \n",
      "environmentsatisfaction                         0.041933   \n",
      "jobsatisfaction                                -0.004055   \n",
      "relationshipsatisfaction                        0.005574   \n",
      "trainingopportunitieswithinyear                 0.009674   \n",
      "trainingopportunitiestaken                     -0.005289   \n",
      "worklifebalance                                 0.059480   \n",
      "selfrating                                      0.035360   \n",
      "managerrating                                   0.062591   \n",
      "\n",
      "                                 yearswithcurrmanager  \\\n",
      "age                                         10.099419   \n",
      "distancefromhomekm                           0.234550   \n",
      "education                                   -0.173369   \n",
      "salary                                   32704.968167   \n",
      "stockoptionlevel                             0.223577   \n",
      "yearsatcompany                               6.265186   \n",
      "yearsinmostrecentrole                        3.226827   \n",
      "yearssincelastpromotion                      4.991850   \n",
      "yearswithcurrmanager                         7.796851   \n",
      "environmentsatisfaction                      0.047922   \n",
      "jobsatisfaction                              0.003531   \n",
      "relationshipsatisfaction                     0.023048   \n",
      "trainingopportunitieswithinyear             -0.001173   \n",
      "trainingopportunitiestaken                   0.009170   \n",
      "worklifebalance                             -0.049516   \n",
      "selfrating                                   0.009117   \n",
      "managerrating                                0.019663   \n",
      "\n",
      "                                 environmentsatisfaction  jobsatisfaction  \\\n",
      "age                                             0.005679         0.051291   \n",
      "distancefromhomekm                              0.041713        -0.174588   \n",
      "education                                      -0.016441         0.000157   \n",
      "salary                                      -1058.432395       600.900443   \n",
      "stockoptionlevel                               -0.000846        -0.003116   \n",
      "yearsatcompany                                  0.030509         0.003348   \n",
      "yearsinmostrecentrole                           0.025375        -0.011327   \n",
      "yearssincelastpromotion                         0.041933        -0.004055   \n",
      "yearswithcurrmanager                            0.047922         0.003531   \n",
      "environmentsatisfaction                         0.884919         0.110640   \n",
      "jobsatisfaction                                 0.110640         1.328407   \n",
      "relationshipsatisfaction                        0.103961         0.064166   \n",
      "trainingopportunitieswithinyear                -0.004012        -0.020194   \n",
      "trainingopportunitiestaken                     -0.013598         0.002989   \n",
      "worklifebalance                                 0.105775         0.055013   \n",
      "selfrating                                      0.000352        -0.008188   \n",
      "managerrating                                  -0.005106        -0.017537   \n",
      "\n",
      "                                 relationshipsatisfaction  \\\n",
      "age                                              0.043702   \n",
      "distancefromhomekm                               0.143038   \n",
      "education                                        0.010731   \n",
      "salary                                         -39.977545   \n",
      "stockoptionlevel                                 0.007898   \n",
      "yearsatcompany                                   0.018255   \n",
      "yearsinmostrecentrole                            0.047672   \n",
      "yearssincelastpromotion                          0.005574   \n",
      "yearswithcurrmanager                             0.023048   \n",
      "environmentsatisfaction                          0.103961   \n",
      "jobsatisfaction                                  0.064166   \n",
      "relationshipsatisfaction                         1.338078   \n",
      "trainingopportunitieswithinyear                 -0.014338   \n",
      "trainingopportunitiestaken                      -0.014695   \n",
      "worklifebalance                                  0.073815   \n",
      "selfrating                                       0.017401   \n",
      "managerrating                                    0.021136   \n",
      "\n",
      "                                 trainingopportunitieswithinyear  \\\n",
      "age                                                    -0.058076   \n",
      "distancefromhomekm                                     -0.046397   \n",
      "education                                               0.014183   \n",
      "salary                                                621.759679   \n",
      "stockoptionlevel                                        0.002711   \n",
      "yearsatcompany                                         -0.000933   \n",
      "yearsinmostrecentrole                                   0.001461   \n",
      "yearssincelastpromotion                                 0.009674   \n",
      "yearswithcurrmanager                                   -0.001173   \n",
      "environmentsatisfaction                                -0.004012   \n",
      "jobsatisfaction                                        -0.020194   \n",
      "relationshipsatisfaction                               -0.014338   \n",
      "trainingopportunitieswithinyear                         0.672909   \n",
      "trainingopportunitiestaken                              0.006484   \n",
      "worklifebalance                                         0.004014   \n",
      "selfrating                                             -0.006949   \n",
      "managerrating                                          -0.006736   \n",
      "\n",
      "                                 trainingopportunitiestaken  worklifebalance  \\\n",
      "age                                               -0.001804        -0.027404   \n",
      "distancefromhomekm                                -0.225250         0.092297   \n",
      "education                                         -0.005041        -0.005944   \n",
      "salary                                           924.786708      -170.549314   \n",
      "stockoptionlevel                                   0.001527         0.006165   \n",
      "yearsatcompany                                     0.018733         0.030300   \n",
      "yearsinmostrecentrole                             -0.014003         0.069212   \n",
      "yearssincelastpromotion                           -0.005289         0.059480   \n",
      "yearswithcurrmanager                               0.009170        -0.049516   \n",
      "environmentsatisfaction                           -0.013598         0.105775   \n",
      "jobsatisfaction                                    0.002989         0.055013   \n",
      "relationshipsatisfaction                          -0.014695         0.073815   \n",
      "trainingopportunitieswithinyear                    0.006484         0.004014   \n",
      "trainingopportunitiestaken                         0.903100         0.011016   \n",
      "worklifebalance                                    0.011016         1.308646   \n",
      "selfrating                                         0.006984         0.014963   \n",
      "managerrating                                      0.007765         0.008798   \n",
      "\n",
      "                                 selfrating  managerrating  \n",
      "age                               -0.026221       0.012693  \n",
      "distancefromhomekm                 0.334863       0.320412  \n",
      "education                         -0.013108      -0.008930  \n",
      "salary                          -107.733746    -150.904367  \n",
      "stockoptionlevel                   0.010324       0.004156  \n",
      "yearsatcompany                     0.029487       0.057362  \n",
      "yearsinmostrecentrole              0.047445       0.087245  \n",
      "yearssincelastpromotion            0.035360       0.062591  \n",
      "yearswithcurrmanager               0.009117       0.019663  \n",
      "environmentsatisfaction            0.000352      -0.005106  \n",
      "jobsatisfaction                   -0.008188      -0.017537  \n",
      "relationshipsatisfaction           0.017401       0.021136  \n",
      "trainingopportunitieswithinyear   -0.006949      -0.006736  \n",
      "trainingopportunitiestaken         0.006984       0.007765  \n",
      "worklifebalance                    0.014963       0.008798  \n",
      "selfrating                         0.666561       0.670640  \n",
      "managerrating                      0.670640       0.924940  \n"
     ]
    }
   ],
   "source": [
    "print(df.cov(numeric_only=True))"
   ]
  },
  {
   "cell_type": "code",
   "execution_count": 48,
   "id": "3311e09e-0dc6-4e89-b70a-9153f474bcc5",
   "metadata": {},
   "outputs": [
    {
     "name": "stdout",
     "output_type": "stream",
     "text": [
      "The number of unique departments is: 3\n",
      "The number of unique genders is: 4\n",
      "The number of unique job roles is: 13\n",
      "The number of unique attrition statuses is: 2\n",
      "The number of unique business travel types is: 3\n",
      "The number of unique marital statuses is: 3\n"
     ]
    }
   ],
   "source": [
    "print(f\"The number of unique departments is: {df['department'].nunique()}\")\n",
    "print(f\"The number of unique genders is: {df['gender'].nunique()}\")\n",
    "print(f\"The number of unique job roles is: {df['jobrole'].nunique()}\")\n",
    "print(f\"The number of unique attrition statuses is: {df['attrition'].nunique()}\")\n",
    "print(f\"The number of unique business travel types is: {df['businesstravel'].nunique()}\")\n",
    "print(f\"The number of unique marital statuses is: {df['maritalstatus'].nunique()}\")"
   ]
  },
  {
   "cell_type": "code",
   "execution_count": 40,
   "id": "96aab3c3-0c43-48ba-8d1f-b6a401aa9bd8",
   "metadata": {},
   "outputs": [],
   "source": [
    "df.columns = df.columns.str.strip()"
   ]
  },
  {
   "cell_type": "code",
   "execution_count": 42,
   "id": "420504f5-489e-4f89-bcf0-55edf33b4e71",
   "metadata": {},
   "outputs": [
    {
     "name": "stdout",
     "output_type": "stream",
     "text": [
      "Columns: ['employeeid', 'firstname', 'lastname', 'gender', 'age', 'businesstravel', 'department', 'distancefromhomekm', 'state', 'ethnicity', 'education', 'educationfield', 'jobrole', 'maritalstatus', 'salary', 'stockoptionlevel', 'overtime', 'hiredate', 'attrition', 'yearsatcompany', 'yearsinmostrecentrole', 'yearssincelastpromotion', 'yearswithcurrmanager', 'performanceid', 'reviewdate', 'environmentsatisfaction', 'jobsatisfaction', 'relationshipsatisfaction', 'trainingopportunitieswithinyear', 'trainingopportunitiestaken', 'worklifebalance', 'selfrating', 'managerrating', 'satisfactionid', 'satisfactionlevel']\n"
     ]
    }
   ],
   "source": [
    "print(\"Columns:\", df.columns.tolist())"
   ]
  },
  {
   "cell_type": "markdown",
   "id": "0cd15675-0591-4ead-948f-af6236e05a2f",
   "metadata": {},
   "source": [
    "# Advanced Analysis "
   ]
  },
  {
   "cell_type": "markdown",
   "id": "730a3f7d-bcc2-4f6a-8a5d-54712876b03b",
   "metadata": {},
   "source": [
    "### 1. Employees per department."
   ]
  },
  {
   "cell_type": "code",
   "execution_count": 52,
   "id": "dab2cd2e-f821-480b-b051-273409c5e3ce",
   "metadata": {},
   "outputs": [
    {
     "data": {
      "text/plain": [
       "department\n",
       "Technology         4375\n",
       "Sales              2211\n",
       "Human Resources     313\n",
       "Name: count, dtype: int64"
      ]
     },
     "execution_count": 52,
     "metadata": {},
     "output_type": "execute_result"
    }
   ],
   "source": [
    "df['department'].value_counts()"
   ]
  },
  {
   "cell_type": "markdown",
   "id": "785aebe7-76df-46f4-8e2b-6deaa1b94b0b",
   "metadata": {},
   "source": [
    "### 2. Gender ratio."
   ]
  },
  {
   "cell_type": "code",
   "execution_count": 54,
   "id": "28e68b8c-d82f-443b-b8a0-ce58f1de1d47",
   "metadata": {},
   "outputs": [
    {
     "data": {
      "text/plain": [
       "gender\n",
       "Female               0.459632\n",
       "Male                 0.443253\n",
       "Non-Binary           0.087549\n",
       "Prefer Not To Say    0.009567\n",
       "Name: proportion, dtype: float64"
      ]
     },
     "execution_count": 54,
     "metadata": {},
     "output_type": "execute_result"
    }
   ],
   "source": [
    "df['gender'].value_counts(normalize=True)"
   ]
  },
  {
   "cell_type": "markdown",
   "id": "0a0b6806-4528-49c2-8f46-a180ef2e0b31",
   "metadata": {},
   "source": [
    "### 3. Average salary per job role."
   ]
  },
  {
   "cell_type": "code",
   "execution_count": 58,
   "id": "c2ee984f-19ef-4da0-98a3-1f1ce017331e",
   "metadata": {},
   "outputs": [
    {
     "data": {
      "text/plain": [
       "jobrole\n",
       "Analytics Manager            350009.413146\n",
       "Data Scientist                57234.834895\n",
       "Engineering Manager          291836.527687\n",
       "HR Business Partner          314482.160000\n",
       "HR Executive                 102778.260504\n",
       "HR Manager                   430520.235294\n",
       "Machine Learning Engineer    133566.706186\n",
       "Manager                      331434.620690\n",
       "Recruiter                     41293.026316\n",
       "Sales Executive              126335.536694\n",
       "Sales Representative          41740.692000\n",
       "Senior Software Engineer     134189.449219\n",
       "Software Engineer             54284.285506\n",
       "Name: salary, dtype: float64"
      ]
     },
     "execution_count": 58,
     "metadata": {},
     "output_type": "execute_result"
    }
   ],
   "source": [
    "df.groupby('jobrole')['salary'].mean()"
   ]
  },
  {
   "cell_type": "markdown",
   "id": "fc7ff13b-3454-462f-b35d-d1a70f645710",
   "metadata": {},
   "source": [
    "### 4. Avg. age of employees by attrition."
   ]
  },
  {
   "cell_type": "code",
   "execution_count": 60,
   "id": "3783f91e-8ce6-4632-b348-865e18e26284",
   "metadata": {},
   "outputs": [
    {
     "data": {
      "text/plain": [
       "attrition\n",
       "No     32.539457\n",
       "Yes    26.634233\n",
       "Name: age, dtype: float64"
      ]
     },
     "execution_count": 60,
     "metadata": {},
     "output_type": "execute_result"
    }
   ],
   "source": [
    "df.groupby('attrition')['age'].mean()"
   ]
  },
  {
   "cell_type": "markdown",
   "id": "c4096abd-8108-4b36-869e-1711a5b281bc",
   "metadata": {},
   "source": [
    "### 5. Top 5 job roles with most attrition."
   ]
  },
  {
   "cell_type": "code",
   "execution_count": 62,
   "id": "b928a363-2756-4f34-aa7b-9a7d46844bef",
   "metadata": {},
   "outputs": [
    {
     "data": {
      "text/plain": [
       "jobrole\n",
       "Data Scientist               597\n",
       "Sales Executive              543\n",
       "Software Engineer            445\n",
       "Sales Representative         317\n",
       "Machine Learning Engineer     95\n",
       "Name: count, dtype: int64"
      ]
     },
     "execution_count": 62,
     "metadata": {},
     "output_type": "execute_result"
    }
   ],
   "source": [
    "df[df['attrition'] == 'Yes']['jobrole'].value_counts().head(5)"
   ]
  },
  {
   "cell_type": "markdown",
   "id": "badf510e-8afe-495d-aaf3-58090a4ef2a5",
   "metadata": {},
   "source": [
    "### 6. Avg. years at company by department."
   ]
  },
  {
   "cell_type": "code",
   "execution_count": 64,
   "id": "775fa2f0-60a5-4bc5-8209-b20d2199e978",
   "metadata": {},
   "outputs": [
    {
     "data": {
      "text/plain": [
       "department\n",
       "Human Resources    5.552716\n",
       "Sales              5.389417\n",
       "Technology         5.675200\n",
       "Name: yearsatcompany, dtype: float64"
      ]
     },
     "execution_count": 64,
     "metadata": {},
     "output_type": "execute_result"
    }
   ],
   "source": [
    "df.groupby('department')['yearsatcompany'].mean()"
   ]
  },
  {
   "cell_type": "markdown",
   "id": "45dbffc3-6ffb-4bea-b900-6af5cd53143d",
   "metadata": {},
   "source": [
    "### 7. Average job satisfaction by job role."
   ]
  },
  {
   "cell_type": "code",
   "execution_count": 72,
   "id": "f83add04-87f0-46de-bb16-d46a0bac660f",
   "metadata": {},
   "outputs": [
    {
     "data": {
      "text/plain": [
       "jobrole\n",
       "Analytics Manager            3.418269\n",
       "Data Scientist               3.457353\n",
       "Engineering Manager          3.526490\n",
       "HR Business Partner          3.347826\n",
       "HR Executive                 3.434783\n",
       "HR Manager                   3.250000\n",
       "Machine Learning Engineer    3.453405\n",
       "Manager                      3.435714\n",
       "Recruiter                    3.469799\n",
       "Sales Executive              3.435897\n",
       "Sales Representative         3.378323\n",
       "Senior Software Engineer     3.356275\n",
       "Software Engineer            3.413043\n",
       "Name: jobsatisfaction, dtype: float64"
      ]
     },
     "execution_count": 72,
     "metadata": {},
     "output_type": "execute_result"
    }
   ],
   "source": [
    "df.groupby('jobrole')['jobsatisfaction'].mean()"
   ]
  },
  {
   "cell_type": "markdown",
   "id": "e4945983-0336-4907-a3a5-7839b4164d6c",
   "metadata": {},
   "source": [
    "### 8. Education levels across departments."
   ]
  },
  {
   "cell_type": "code",
   "execution_count": 75,
   "id": "08edf051-58b4-4a1c-998b-10780ab37c65",
   "metadata": {},
   "outputs": [
    {
     "data": {
      "text/html": [
       "<div>\n",
       "<style scoped>\n",
       "    .dataframe tbody tr th:only-of-type {\n",
       "        vertical-align: middle;\n",
       "    }\n",
       "\n",
       "    .dataframe tbody tr th {\n",
       "        vertical-align: top;\n",
       "    }\n",
       "\n",
       "    .dataframe thead th {\n",
       "        text-align: right;\n",
       "    }\n",
       "</style>\n",
       "<table border=\"1\" class=\"dataframe\">\n",
       "  <thead>\n",
       "    <tr style=\"text-align: right;\">\n",
       "      <th>department</th>\n",
       "      <th>Human Resources</th>\n",
       "      <th>Sales</th>\n",
       "      <th>Technology</th>\n",
       "    </tr>\n",
       "    <tr>\n",
       "      <th>education</th>\n",
       "      <th></th>\n",
       "      <th></th>\n",
       "      <th></th>\n",
       "    </tr>\n",
       "  </thead>\n",
       "  <tbody>\n",
       "    <tr>\n",
       "      <th>1</th>\n",
       "      <td>36</td>\n",
       "      <td>240</td>\n",
       "      <td>581</td>\n",
       "    </tr>\n",
       "    <tr>\n",
       "      <th>2</th>\n",
       "      <td>71</td>\n",
       "      <td>468</td>\n",
       "      <td>841</td>\n",
       "    </tr>\n",
       "    <tr>\n",
       "      <th>3</th>\n",
       "      <td>120</td>\n",
       "      <td>851</td>\n",
       "      <td>1735</td>\n",
       "    </tr>\n",
       "    <tr>\n",
       "      <th>4</th>\n",
       "      <td>73</td>\n",
       "      <td>578</td>\n",
       "      <td>1087</td>\n",
       "    </tr>\n",
       "    <tr>\n",
       "      <th>5</th>\n",
       "      <td>13</td>\n",
       "      <td>74</td>\n",
       "      <td>131</td>\n",
       "    </tr>\n",
       "  </tbody>\n",
       "</table>\n",
       "</div>"
      ],
      "text/plain": [
       "department  Human Resources  Sales  Technology\n",
       "education                                     \n",
       "1                        36    240         581\n",
       "2                        71    468         841\n",
       "3                       120    851        1735\n",
       "4                        73    578        1087\n",
       "5                        13     74         131"
      ]
     },
     "execution_count": 75,
     "metadata": {},
     "output_type": "execute_result"
    }
   ],
   "source": [
    "pd.crosstab(df['education'], df['department'])"
   ]
  },
  {
   "cell_type": "markdown",
   "id": "54a2c413-fcb5-4ea9-b09d-1744a8521235",
   "metadata": {},
   "source": [
    "### 9. Overtime counts by department."
   ]
  },
  {
   "cell_type": "code",
   "execution_count": 77,
   "id": "cff083bd-08e4-4ffd-a5ee-e2720c694187",
   "metadata": {},
   "outputs": [
    {
     "data": {
      "text/plain": [
       "department       overtime\n",
       "Human Resources  No           217\n",
       "                 Yes           96\n",
       "Sales            No          1457\n",
       "                 Yes          754\n",
       "Technology       No          2944\n",
       "                 Yes         1431\n",
       "Name: count, dtype: int64"
      ]
     },
     "execution_count": 77,
     "metadata": {},
     "output_type": "execute_result"
    }
   ],
   "source": [
    "df.groupby('department')['overtime'].value_counts()"
   ]
  },
  {
   "cell_type": "markdown",
   "id": "8b796d64-1c6a-40c8-8b61-90517b5af636",
   "metadata": {},
   "source": [
    "### 10. % employees promoted in last 5 years."
   ]
  },
  {
   "cell_type": "code",
   "execution_count": 88,
   "id": "c5190013-4c61-4c77-82b4-592b0f982bc5",
   "metadata": {},
   "outputs": [
    {
     "data": {
      "text/plain": [
       "63.86432816350196"
      ]
     },
     "execution_count": 88,
     "metadata": {},
     "output_type": "execute_result"
    }
   ],
   "source": [
    "(len(df[df['yearssincelastpromotion'] <= 5]) / len(df)) * 100"
   ]
  },
  {
   "cell_type": "markdown",
   "id": "6950b1df-1c77-42d3-b08f-2fff105856f7",
   "metadata": {},
   "source": [
    "### 11. Average salary by marital status."
   ]
  },
  {
   "cell_type": "code",
   "execution_count": 90,
   "id": "e9d682a4-d3c7-45e8-93f2-d0e7855145f3",
   "metadata": {},
   "outputs": [
    {
     "data": {
      "text/plain": [
       "maritalstatus\n",
       "Divorced    112916.073684\n",
       "Married     119338.312799\n",
       "Single      100567.795618\n",
       "Name: salary, dtype: float64"
      ]
     },
     "execution_count": 90,
     "metadata": {},
     "output_type": "execute_result"
    }
   ],
   "source": [
    "df.groupby('maritalstatus')['salary'].mean()"
   ]
  },
  {
   "cell_type": "markdown",
   "id": "fe7b06f3-beee-4c7d-9ae0-d29913b96342",
   "metadata": {},
   "source": [
    "### 12. Attrition rate by education level."
   ]
  },
  {
   "cell_type": "code",
   "execution_count": 92,
   "id": "565dff68-5a98-430a-85b1-83768d7f25ce",
   "metadata": {},
   "outputs": [
    {
     "data": {
      "text/plain": [
       "education\n",
       "3    0.419726\n",
       "4    0.241044\n",
       "2    0.186643\n",
       "1    0.131358\n",
       "5    0.021230\n",
       "Name: proportion, dtype: float64"
      ]
     },
     "execution_count": 92,
     "metadata": {},
     "output_type": "execute_result"
    }
   ],
   "source": [
    "df[df['attrition'] == 'Yes']['education'].value_counts(normalize=True)"
   ]
  },
  {
   "cell_type": "markdown",
   "id": "32c64911-acab-4631-a0ee-ef82f6ff8475",
   "metadata": {},
   "source": [
    "### 13. Average stock options per department."
   ]
  },
  {
   "cell_type": "code",
   "execution_count": 94,
   "id": "af3bce68-49d7-460f-bdfa-4e7fbf7aed26",
   "metadata": {},
   "outputs": [
    {
     "data": {
      "text/plain": [
       "department\n",
       "Human Resources    0.811502\n",
       "Sales              0.683853\n",
       "Technology         0.740343\n",
       "Name: stockoptionlevel, dtype: float64"
      ]
     },
     "execution_count": 94,
     "metadata": {},
     "output_type": "execute_result"
    }
   ],
   "source": [
    "df.groupby('department')['stockoptionlevel'].mean()"
   ]
  },
  {
   "cell_type": "markdown",
   "id": "bb2f5981-400d-496e-886b-f91009245cd6",
   "metadata": {},
   "source": [
    "### 14. Correlation Heatmap."
   ]
  },
  {
   "cell_type": "code",
   "execution_count": 140,
   "id": "1842576e-441e-4861-a0ab-326263ac1f2c",
   "metadata": {},
   "outputs": [
    {
     "data": {
      "image/png": "[encoded data removed]",
      "text/plain": [
       "<Figure size 1200x800 with 2 Axes>"
      ]
     },
     "metadata": {},
     "output_type": "display_data"
    }
   ],
   "source": [
    "plt.figure(figsize=(12, 8))\n",
    "sns.heatmap(df.select_dtypes(include='number').corr(), annot=True, fmt=\".2f\", cmap=\"coolwarm\")\n",
    "plt.title(\"Correlation Heatmap\", fontsize=16, fontweight='bold')\n",
    "plt.xticks(rotation=45)\n",
    "plt.yticks(rotation=0)\n",
    "plt.tight_layout()\n",
    "plt.show()"
   ]
  },
  {
   "cell_type": "markdown",
   "id": "231135d5-7309-4f28-b917-3168acbdae6f",
   "metadata": {},
   "source": [
    "### 15. Which state has the highest attrition rate?"
   ]
  },
  {
   "cell_type": "code",
   "execution_count": 108,
   "id": "f0b70f2b-a0f6-4039-9de6-48d50c497f3a",
   "metadata": {},
   "outputs": [
    {
     "data": {
      "text/plain": [
       "state\n",
       "CA    1460\n",
       "Name: count, dtype: int64"
      ]
     },
     "execution_count": 108,
     "metadata": {},
     "output_type": "execute_result"
    }
   ],
   "source": [
    "df[df['attrition'] == 'Yes']['state'].value_counts().head(1)"
   ]
  },
  {
   "cell_type": "markdown",
   "id": "8382047c-3ced-4341-a001-44b0e4f2a646",
   "metadata": {},
   "source": [
    "### 16. Department with most recent promotions."
   ]
  },
  {
   "cell_type": "code",
   "execution_count": 110,
   "id": "43beab53-5f6d-4aa0-81d2-53daae8e5d52",
   "metadata": {},
   "outputs": [
    {
     "data": {
      "text/plain": [
       "department\n",
       "Technology         1212\n",
       "Sales               748\n",
       "Human Resources     100\n",
       "Name: count, dtype: int64"
      ]
     },
     "execution_count": 110,
     "metadata": {},
     "output_type": "execute_result"
    }
   ],
   "source": [
    "df[df['yearssincelastpromotion'] <= 1]['department'].value_counts()"
   ]
  },
  {
   "cell_type": "markdown",
   "id": "fbf30899-71bb-48f5-9d77-e3c1f7961cd5",
   "metadata": {},
   "source": [
    "### 17. Top 5 roles by average tenure."
   ]
  },
  {
   "cell_type": "code",
   "execution_count": 112,
   "id": "95de1deb-a794-4908-8d0b-a284c37a9748",
   "metadata": {},
   "outputs": [
    {
     "data": {
      "text/plain": [
       "jobrole\n",
       "HR Manager             7.529412\n",
       "HR Business Partner    6.640000\n",
       "Engineering Manager    6.618893\n",
       "Manager                6.572414\n",
       "Analytics Manager      6.521127\n",
       "Name: yearsatcompany, dtype: float64"
      ]
     },
     "execution_count": 112,
     "metadata": {},
     "output_type": "execute_result"
    }
   ],
   "source": [
    "df.groupby('jobrole')['yearsatcompany'].mean().sort_values(ascending=False).head(5)"
   ]
  },
  {
   "cell_type": "markdown",
   "id": "b3e2a35f-14eb-4f74-8dda-81adc4cb90df",
   "metadata": {},
   "source": [
    "### 18. Who gets promoted more: Overtime vs No Overtime."
   ]
  },
  {
   "cell_type": "code",
   "execution_count": 114,
   "id": "58fdc139-f6ce-4caa-bafa-5486724d85d2",
   "metadata": {},
   "outputs": [
    {
     "data": {
      "text/plain": [
       "overtime\n",
       "No     4.483110\n",
       "Yes    3.457256\n",
       "Name: yearssincelastpromotion, dtype: float64"
      ]
     },
     "execution_count": 114,
     "metadata": {},
     "output_type": "execute_result"
    }
   ],
   "source": [
    "df.groupby('overtime')['yearssincelastpromotion'].mean()"
   ]
  },
  {
   "cell_type": "markdown",
   "id": "a5f1c15b-537a-4807-a999-0f7c815f9031",
   "metadata": {},
   "source": [
    "### 19. Most stable department (highest yearswithcurrmanager)."
   ]
  },
  {
   "cell_type": "code",
   "execution_count": 116,
   "id": "d844c472-f651-4221-bf62-5eaad4181b37",
   "metadata": {},
   "outputs": [
    {
     "data": {
      "text/plain": [
       "department\n",
       "Human Resources    3.230032\n",
       "Technology         2.815771\n",
       "Sales              2.525102\n",
       "Name: yearswithcurrmanager, dtype: float64"
      ]
     },
     "execution_count": 116,
     "metadata": {},
     "output_type": "execute_result"
    }
   ],
   "source": [
    "df.groupby('department')['yearswithcurrmanager'].mean().sort_values(ascending=False)"
   ]
  },
  {
   "cell_type": "markdown",
   "id": "40c828c7-71ba-4939-ba3a-06912acc4a98",
   "metadata": {},
   "source": [
    "### 20. Attrition rate by satisfaction level (environment, job, relationship)."
   ]
  },
  {
   "cell_type": "code",
   "execution_count": 122,
   "id": "f5490821-e622-4cab-b5b4-7eedc61a8fc3",
   "metadata": {},
   "outputs": [
    {
     "data": {
      "text/plain": [
       "environmentsatisfaction  attrition\n",
       "1.0                      No           0.742647\n",
       "                         Yes          0.257353\n",
       "2.0                      No           0.687943\n",
       "                         Yes          0.312057\n",
       "3.0                      No           0.649028\n",
       "                         Yes          0.350972\n",
       "4.0                      No           0.675402\n",
       "                         Yes          0.324598\n",
       "5.0                      No           0.657869\n",
       "                         Yes          0.342131\n",
       "Name: proportion, dtype: float64"
      ]
     },
     "execution_count": 122,
     "metadata": {},
     "output_type": "execute_result"
    }
   ],
   "source": [
    "df.groupby('environmentsatisfaction')['attrition'].value_counts(normalize=True)"
   ]
  },
  {
   "cell_type": "markdown",
   "id": "2f66f421-b305-4f16-bbfd-7981d404b755",
   "metadata": {},
   "source": [
    "### 21. Which education level has the highest performers?"
   ]
  },
  {
   "cell_type": "code",
   "execution_count": 130,
   "id": "16121f60-155a-41eb-94ba-be97675a37b0",
   "metadata": {},
   "outputs": [
    {
     "data": {
      "text/plain": [
       "education\n",
       "1    3.505952\n",
       "5    3.488152\n",
       "3    3.483295\n",
       "2    3.456699\n",
       "4    3.453078\n",
       "Name: managerrating, dtype: float64"
      ]
     },
     "execution_count": 130,
     "metadata": {},
     "output_type": "execute_result"
    }
   ],
   "source": [
    "df.groupby('education')['managerrating'].mean().sort_values(ascending=False)"
   ]
  },
  {
   "cell_type": "markdown",
   "id": "d6ca1949-f18f-4072-a312-cde4db0825e2",
   "metadata": {},
   "source": [
    "### 22. Correlation between years with manager and promotion gap."
   ]
  },
  {
   "cell_type": "code",
   "execution_count": 149,
   "id": "0aac205e-73d0-4906-a0fe-9671a4e5f27e",
   "metadata": {},
   "outputs": [
    {
     "data": {
      "text/html": [
       "<div>\n",
       "<style scoped>\n",
       "    .dataframe tbody tr th:only-of-type {\n",
       "        vertical-align: middle;\n",
       "    }\n",
       "\n",
       "    .dataframe tbody tr th {\n",
       "        vertical-align: top;\n",
       "    }\n",
       "\n",
       "    .dataframe thead th {\n",
       "        text-align: right;\n",
       "    }\n",
       "</style>\n",
       "<table border=\"1\" class=\"dataframe\">\n",
       "  <thead>\n",
       "    <tr style=\"text-align: right;\">\n",
       "      <th></th>\n",
       "      <th>yearswithcurrmanager</th>\n",
       "      <th>yearssincelastpromotion</th>\n",
       "    </tr>\n",
       "  </thead>\n",
       "  <tbody>\n",
       "    <tr>\n",
       "      <th>yearswithcurrmanager</th>\n",
       "      <td>1.000000</td>\n",
       "      <td>0.558008</td>\n",
       "    </tr>\n",
       "    <tr>\n",
       "      <th>yearssincelastpromotion</th>\n",
       "      <td>0.558008</td>\n",
       "      <td>1.000000</td>\n",
       "    </tr>\n",
       "  </tbody>\n",
       "</table>\n",
       "</div>"
      ],
      "text/plain": [
       "                         yearswithcurrmanager  yearssincelastpromotion\n",
       "yearswithcurrmanager                 1.000000                 0.558008\n",
       "yearssincelastpromotion              0.558008                 1.000000"
      ]
     },
     "execution_count": 149,
     "metadata": {},
     "output_type": "execute_result"
    }
   ],
   "source": [
    "df[['yearswithcurrmanager', 'yearssincelastpromotion']].corr()"
   ]
  },
  {
   "cell_type": "markdown",
   "id": "878c1954-0055-4cf4-9228-ebb6ad0b78f9",
   "metadata": {},
   "source": [
    "### 23. Attrition based on travel frequency."
   ]
  },
  {
   "cell_type": "code",
   "execution_count": 151,
   "id": "18d72b63-5d9f-4ae3-ba26-fa91be94ef40",
   "metadata": {},
   "outputs": [
    {
     "data": {
      "text/plain": [
       "businesstravel      attrition\n",
       "Frequent Traveller  No           0.529412\n",
       "                    Yes          0.470588\n",
       "No Travel           No           0.818612\n",
       "                    Yes          0.181388\n",
       "Some Travel         No           0.694108\n",
       "                    Yes          0.305892\n",
       "Name: proportion, dtype: float64"
      ]
     },
     "execution_count": 151,
     "metadata": {},
     "output_type": "execute_result"
    }
   ],
   "source": [
    "df.groupby('businesstravel')['attrition'].value_counts(normalize=True)"
   ]
  },
  {
   "cell_type": "markdown",
   "id": "7c607bfb-bb83-42e9-88d4-4fa7ab45df0e",
   "metadata": {},
   "source": [
    "### 24. Department Analysis Loop Summary."
   ]
  },
  {
   "cell_type": "code",
   "execution_count": 167,
   "id": "3c7496dd-3a0e-41ab-88fa-f6918c3af31e",
   "metadata": {},
   "outputs": [
    {
     "name": "stdout",
     "output_type": "stream",
     "text": [
      "        Department  Avg Tenure  Avg Salary  Attrition Rate (%)          Status\n",
      "0            Sales        5.39   120568.31               39.76  High Attrition\n",
      "1  Human Resources        5.55   107629.56               36.74  High Attrition\n",
      "2       Technology        5.68   106245.33               28.96  High Attrition\n"
     ]
    }
   ],
   "source": [
    "def department_summary(df):\n",
    "    summary = []\n",
    "    departments = df['department'].unique()\n",
    "\n",
    "    for dept in departments:\n",
    "        subset = df[df['department'] == dept]\n",
    "        avg_tenure = subset['yearsatcompany'].mean()\n",
    "        avg_salary = subset['salary'].mean()\n",
    "        attrition_rate = (subset['attrition'] == 'Yes').mean()\n",
    "        \n",
    "        if attrition_rate > 0.25:\n",
    "            risk = \"High Attrition\"\n",
    "        elif avg_tenure < 3:\n",
    "            risk = \"Low Tenure\"\n",
    "        else:\n",
    "            risk = \"Healthy\"\n",
    "        \n",
    "        summary.append({\n",
    "            'Department': dept,\n",
    "            'Avg Tenure': round(avg_tenure, 2),\n",
    "            'Avg Salary': round(avg_salary, 2),\n",
    "            'Attrition Rate (%)': round(attrition_rate * 100, 2),\n",
    "            'Status': risk\n",
    "        })\n",
    "\n",
    "    return pd.DataFrame(summary).sort_values(by='Attrition Rate (%)', ascending=False)\n",
    "print(department_summary(df))"
   ]
  }
 ],
 "metadata": {
  "kernelspec": {
   "display_name": "Python 3 (ipykernel)",
   "language": "python",
   "name": "python3"
  },
  "language_info": {
   "codemirror_mode": {
    "name": "ipython",
    "version": 3
   },
   "file_extension": ".py",
   "mimetype": "text/x-python",
   "name": "python",
   "nbconvert_exporter": "python",
   "pygments_lexer": "ipython3",
   "version": "3.12.7"
  }
 },
 "nbformat": 4,
 "nbformat_minor": 5
}
